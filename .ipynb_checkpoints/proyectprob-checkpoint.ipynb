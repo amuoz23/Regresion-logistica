{
 "cells": [
  {
   "cell_type": "code",
   "execution_count": 2,
   "id": "6ec8ea7a-7659-44ab-b595-cbc967a51e9f",
   "metadata": {},
   "outputs": [],
   "source": [
    "\n",
    "\n",
    "# Tratamiento de datos\n",
    "# ==============================================================================\n",
    "import pandas as pd\n",
    "import numpy as np\n",
    "\n",
    "# Gráficos\n",
    "# ==============================================================================\n",
    "import matplotlib.pyplot as plt\n",
    "from matplotlib import style\n",
    "import seaborn as sns\n",
    "\n",
    "# Preprocesado y modelado\n",
    "# ==============================================================================\n",
    "from sklearn.linear_model import LogisticRegression\n",
    "from sklearn.model_selection import train_test_split\n",
    "from sklearn.metrics import accuracy_score\n",
    "import statsmodels.api as sm\n",
    "import statsmodels.formula.api as smf\n",
    "from statsmodels.stats.weightstats import ttest_ind\n",
    "\n",
    "# Configuración matplotlib\n",
    "# ==============================================================================\n",
    "plt.rcParams['image.cmap'] = \"bwr\"\n",
    "#plt.rcParams['figure.dpi'] = \"100\"\n",
    "plt.rcParams['savefig.bbox'] = \"tight\"\n",
    "style.use('ggplot') or plt.style.use('ggplot')\n",
    "\n",
    "# Configuración warnings\n",
    "# ==============================================================================\n",
    "import warnings\n",
    "warnings.filterwarnings('ignore')\n",
    "\n",
    "\n"
   ]
  },
  {
   "cell_type": "code",
   "execution_count": 71,
   "id": "8a8d6ac7-bb61-4247-9f5b-2647a0c8f6b5",
   "metadata": {},
   "outputs": [],
   "source": [
    "data_frame = pd.read_csv('data.csv')"
   ]
  },
  {
   "cell_type": "code",
   "execution_count": 72,
   "id": "12788b35-a23e-43e6-8dee-5b8bf2e44c7b",
   "metadata": {},
   "outputs": [
    {
     "data": {
      "text/html": [
       "<div>\n",
       "<style scoped>\n",
       "    .dataframe tbody tr th:only-of-type {\n",
       "        vertical-align: middle;\n",
       "    }\n",
       "\n",
       "    .dataframe tbody tr th {\n",
       "        vertical-align: top;\n",
       "    }\n",
       "\n",
       "    .dataframe thead th {\n",
       "        text-align: right;\n",
       "    }\n",
       "</style>\n",
       "<table border=\"1\" class=\"dataframe\">\n",
       "  <thead>\n",
       "    <tr style=\"text-align: right;\">\n",
       "      <th></th>\n",
       "      <th>SEMESTRE ACTUAL</th>\n",
       "      <th>ESTRATO</th>\n",
       "      <th>PROMEDIO CARRERA</th>\n",
       "      <th>PROMEDIO SEMESTRE</th>\n",
       "      <th>ESTADO</th>\n",
       "    </tr>\n",
       "  </thead>\n",
       "  <tbody>\n",
       "    <tr>\n",
       "      <th>0</th>\n",
       "      <td>10</td>\n",
       "      <td>1</td>\n",
       "      <td>2.833</td>\n",
       "      <td>3.50</td>\n",
       "      <td>ACTIVO</td>\n",
       "    </tr>\n",
       "    <tr>\n",
       "      <th>1</th>\n",
       "      <td>10</td>\n",
       "      <td>3</td>\n",
       "      <td>2.542</td>\n",
       "      <td>0.00</td>\n",
       "      <td>ACTIVO</td>\n",
       "    </tr>\n",
       "    <tr>\n",
       "      <th>2</th>\n",
       "      <td>6</td>\n",
       "      <td>1</td>\n",
       "      <td>0.000</td>\n",
       "      <td>0.00</td>\n",
       "      <td>INACTIVO</td>\n",
       "    </tr>\n",
       "    <tr>\n",
       "      <th>3</th>\n",
       "      <td>3</td>\n",
       "      <td>2</td>\n",
       "      <td>3.375</td>\n",
       "      <td>3.70</td>\n",
       "      <td>INACTIVO</td>\n",
       "    </tr>\n",
       "    <tr>\n",
       "      <th>4</th>\n",
       "      <td>2</td>\n",
       "      <td>3</td>\n",
       "      <td>2.541</td>\n",
       "      <td>3.05</td>\n",
       "      <td>ACTIVO</td>\n",
       "    </tr>\n",
       "    <tr>\n",
       "      <th>...</th>\n",
       "      <td>...</td>\n",
       "      <td>...</td>\n",
       "      <td>...</td>\n",
       "      <td>...</td>\n",
       "      <td>...</td>\n",
       "    </tr>\n",
       "    <tr>\n",
       "      <th>470</th>\n",
       "      <td>1</td>\n",
       "      <td>1</td>\n",
       "      <td>0.000</td>\n",
       "      <td>0.00</td>\n",
       "      <td>ACTIVO</td>\n",
       "    </tr>\n",
       "    <tr>\n",
       "      <th>471</th>\n",
       "      <td>1</td>\n",
       "      <td>1</td>\n",
       "      <td>0.000</td>\n",
       "      <td>0.00</td>\n",
       "      <td>ACTIVO</td>\n",
       "    </tr>\n",
       "    <tr>\n",
       "      <th>472</th>\n",
       "      <td>1</td>\n",
       "      <td>3</td>\n",
       "      <td>0.000</td>\n",
       "      <td>0.00</td>\n",
       "      <td>ACTIVO</td>\n",
       "    </tr>\n",
       "    <tr>\n",
       "      <th>473</th>\n",
       "      <td>1</td>\n",
       "      <td>2</td>\n",
       "      <td>0.000</td>\n",
       "      <td>0.00</td>\n",
       "      <td>ACTIVO</td>\n",
       "    </tr>\n",
       "    <tr>\n",
       "      <th>474</th>\n",
       "      <td>1</td>\n",
       "      <td>1</td>\n",
       "      <td>0.000</td>\n",
       "      <td>0.00</td>\n",
       "      <td>ACTIVO</td>\n",
       "    </tr>\n",
       "  </tbody>\n",
       "</table>\n",
       "<p>475 rows × 5 columns</p>\n",
       "</div>"
      ],
      "text/plain": [
       "     SEMESTRE ACTUAL  ESTRATO  PROMEDIO CARRERA  PROMEDIO SEMESTRE    ESTADO\n",
       "0                 10        1             2.833               3.50    ACTIVO\n",
       "1                 10        3             2.542               0.00    ACTIVO\n",
       "2                  6        1             0.000               0.00  INACTIVO\n",
       "3                  3        2             3.375               3.70  INACTIVO\n",
       "4                  2        3             2.541               3.05    ACTIVO\n",
       "..               ...      ...               ...                ...       ...\n",
       "470                1        1             0.000               0.00    ACTIVO\n",
       "471                1        1             0.000               0.00    ACTIVO\n",
       "472                1        3             0.000               0.00    ACTIVO\n",
       "473                1        2             0.000               0.00    ACTIVO\n",
       "474                1        1             0.000               0.00    ACTIVO\n",
       "\n",
       "[475 rows x 5 columns]"
      ]
     },
     "execution_count": 72,
     "metadata": {},
     "output_type": "execute_result"
    }
   ],
   "source": [
    "data_frame.head(475)"
   ]
  },
  {
   "cell_type": "markdown",
   "id": "ade55fcb-300f-438c-8b8d-ca4709edf3fd",
   "metadata": {},
   "source": [
    "## Variables de interes \n",
    " semestre actual, Estrato, Promedio de carrera, Promedio de semestre, Estado, Resultado \n"
   ]
  },
  {
   "cell_type": "markdown",
   "id": "34577291-69c1-489d-8781-f8abcf9bfc37",
   "metadata": {},
   "source": [
    "# Desarollo \n",
    "En esta parte nos interesa explorar los datos y desarrollar el modelo sde regresion logistica, en el estudio de la Desercion estudiantil en el programa de matematicas."
   ]
  },
  {
   "cell_type": "markdown",
   "id": "51f94d76-043c-4e15-abf3-7c1f90c90ea4",
   "metadata": {},
   "source": [
    "# Exploracion de datos \n",
    "vamos a crear los arreglos con los datos de cada una d elas variables de interes "
   ]
  },
  {
   "cell_type": "code",
   "execution_count": 81,
   "id": "0ba90527-d6ba-4a24-ac42-816e4fc6bfd8",
   "metadata": {},
   "outputs": [],
   "source": [
    "\n",
    "\n",
    "#array de ESTRATO\n",
    "#estrato = data_frame['ESTRATO'].values\n",
    "\n",
    "#array de PROMEDIO CARRERA\n",
    "promCarr = data_frame['PROMEDIO CARRERA'].values\n",
    "\n",
    "#array de PROMEDIO SEMESTRE\n",
    "promSeme = data_frame['PROMEDIO SEMESTRE'].values\n",
    "\n",
    "#array de RESUTADO\n",
    "#resultados = data_frame['RESULTADO'].values\n",
    "\n"
   ]
  },
  {
   "cell_type": "markdown",
   "id": "2a9e2e80-e765-4d50-8270-47bb3e8d0ad1",
   "metadata": {},
   "source": [
    "Se codifica la variable respuesta como 1 si esta inactivo y 0 silo esta, y se identifica cuantas observaciones hay de cada clase."
   ]
  },
  {
   "cell_type": "code",
   "execution_count": 74,
   "id": "d884b2e4-e900-472d-b759-30d7f8e5a583",
   "metadata": {},
   "outputs": [
    {
     "name": "stdout",
     "output_type": "stream",
     "text": [
      "Número de observaciones por clase\n",
      "0    253\n",
      "1    222\n",
      "Name: ESTADO, dtype: int64\n",
      "\n",
      "Porcentaje de observaciones por clase\n",
      "0    53.263158\n",
      "1    46.736842\n",
      "Name: ESTADO, dtype: float64\n"
     ]
    }
   ],
   "source": [
    "\n",
    "data_frame['ESTADO'] = np.where(data_frame['ESTADO'] == 'INACTIVO', 1, 0)\n",
    "\n",
    "print(\"Número de observaciones por clase\")\n",
    "print(data_frame['ESTADO'].value_counts())\n",
    "print(\"\")\n",
    "\n",
    "print(\"Porcentaje de observaciones por clase\")\n",
    "print(100 * data_frame['ESTADO'].value_counts(normalize=True))\n",
    "\n"
   ]
  },
  {
   "cell_type": "markdown",
   "id": "7554444f-a103-4255-88ee-8355178cfb81",
   "metadata": {},
   "source": [
    "El 53,26% de los estudiantes esta activo y el 46.73% estan inactivos, y estos son los datos en lo que tenemos interes. Un modelo de clasificación que sea útil debe de ser capaz de predecir correctamente un porcentaje de observaciones por encima del porcentaje de la clase mayoritaria. En este caso, el umbral de referencia que se tiene que superar es del 53,26%"
   ]
  },
  {
   "cell_type": "markdown",
   "id": "f5914a14-797f-4676-b1f5-50dfc0987b7a",
   "metadata": {},
   "source": [
    "# Ajuste del modelo\n",
    "\n",
    "Se ajusta un modelo de regresión logística múltiple con el objetivo de predecir si un estudiante esta  inactivo en función de todas las variables disponibles."
   ]
  },
  {
   "cell_type": "code",
   "execution_count": 75,
   "id": "02f03d76-a834-42c0-adc7-f82d25df5164",
   "metadata": {
    "scrolled": true
   },
   "outputs": [
    {
     "name": "stdout",
     "output_type": "stream",
     "text": [
      "Optimization terminated successfully.\n",
      "         Current function value: 0.525773\n",
      "         Iterations 6\n",
      "                           Logit Regression Results                           \n",
      "==============================================================================\n",
      "Dep. Variable:                 ESTADO   No. Observations:                  475\n",
      "Model:                          Logit   Df Residuals:                      470\n",
      "Method:                           MLE   Df Model:                            4\n",
      "Date:                Tue, 05 Dec 2023   Pseudo R-squ.:                  0.2391\n",
      "Time:                        15:51:19   Log-Likelihood:                -249.74\n",
      "converged:                       True   LL-Null:                       -328.23\n",
      "Covariance Type:            nonrobust   LLR p-value:                 6.492e-33\n",
      "=====================================================================================\n",
      "                        coef    std err          z      P>|z|      [0.025      0.975]\n",
      "-------------------------------------------------------------------------------------\n",
      "const                 1.0004      0.318      3.144      0.002       0.377       1.624\n",
      "SEMESTRE ACTUAL      -0.2967      0.052     -5.694      0.000      -0.399      -0.195\n",
      "ESTRATO               0.3380      0.153      2.210      0.027       0.038       0.638\n",
      "PROMEDIO CARRERA     -0.5611      0.087     -6.476      0.000      -0.731      -0.391\n",
      "PROMEDIO SEMESTRE     0.2385      0.086      2.789      0.005       0.071       0.406\n",
      "=====================================================================================\n"
     ]
    }
   ],
   "source": [
    "# Creación de la matriz de predictores\n",
    "X = data_frame.drop(columns = 'ESTADO')\n",
    "\n",
    "# Creación de la variable dependiente\n",
    "y = data_frame['ESTADO']\n",
    "\n",
    "# A la matriz de predictores se le tiene que añadir una columna de 1s para el intercept del modelo\n",
    "X = sm.add_constant(X, prepend = True)\n",
    "\n",
    "# Creación del modelo de regresión logística\n",
    "modelo = sm.Logit(endog = y, exog = X)\n",
    "\n",
    "# Entrenamiento del modelo\n",
    "modelo = modelo.fit()\n",
    "\n",
    "# Resumen del modelo\n",
    "print(modelo.summary())\n",
    "\n",
    "\n"
   ]
  },
  {
   "cell_type": "markdown",
   "id": "9a1930bc-313c-439b-92fe-c21aef5b894e",
   "metadata": {},
   "source": [
    "# Predicciones\n",
    "\n",
    "\n",
    "Una vez entrenado el modelo, se pueden obtener predicciones para nuevos datos. Los modelos de statsmodels permiten calcular los intervalos de confianza asociados a cada predicción."
   ]
  },
  {
   "cell_type": "code",
   "execution_count": 76,
   "id": "866a8926-1d64-4ca9-b2f0-16f79a5c04e7",
   "metadata": {},
   "outputs": [
    {
     "data": {
      "text/plain": [
       "array([0, 0, 0, 0, 1, 0, 0, 0, 0, 0, 0, 0, 1, 0, 0, 0, 0, 0, 0, 0, 0, 0,\n",
       "       0, 0, 0, 0, 0, 0, 0, 0, 0, 0, 0, 0, 0, 0, 0, 0, 0, 0, 1, 0, 0, 0,\n",
       "       0, 0, 0, 0, 0, 0, 0, 1, 0, 0, 0, 0, 0, 0, 0, 0, 0, 0, 0, 0, 0, 0,\n",
       "       0, 0, 0, 1, 0, 0, 0, 1, 0, 1, 1, 0, 0, 0, 0, 1, 1, 0, 0, 0, 0, 0,\n",
       "       0, 0, 0, 1, 1, 0, 1, 0, 0, 1, 0, 0, 0, 1, 0, 0, 1, 1, 0, 0, 0, 0,\n",
       "       0, 0, 0, 0, 1, 0, 0, 0, 1, 1, 1, 0, 0, 0, 0, 1, 0, 0, 0, 1, 1, 0,\n",
       "       0, 0, 1, 1, 0, 0, 1, 1, 0, 0, 0, 0, 0, 1, 0, 0, 1, 0, 0, 1, 0, 1,\n",
       "       1, 0, 0, 0, 1, 1, 0, 1, 1, 0, 1, 0, 1, 1, 1, 1, 1, 1, 1, 1, 0, 0,\n",
       "       1, 0, 1, 0, 0, 1, 0, 1, 0, 1, 0, 0, 0, 0, 1, 0, 1, 1, 0, 0, 0, 0,\n",
       "       1, 0, 1, 1, 0, 0, 0, 1, 0, 1, 0, 0, 0, 1, 0, 1, 0, 0, 0, 1, 1, 1,\n",
       "       0, 0, 1, 0, 0, 0, 1, 1, 1, 1, 0, 1, 0, 1, 0, 0, 0, 0, 1, 0, 0, 1,\n",
       "       0, 1, 0, 0, 0, 1, 1, 0, 0, 1, 1, 0, 0, 1, 1, 0, 1, 1, 0, 1, 0, 1,\n",
       "       1, 1, 0, 0, 1, 0, 0, 1, 1, 0, 1, 1, 1, 1, 1, 0, 0, 1, 0, 1, 1, 1,\n",
       "       1, 0, 1, 1, 1, 0, 0, 1, 0, 0, 0, 1, 0, 1, 0, 0, 0, 0, 0, 0, 1, 1,\n",
       "       1, 0, 1, 0, 1, 0, 0, 0, 1, 1, 1, 1, 0, 0, 0, 0, 0, 0, 1, 1, 1, 0,\n",
       "       1, 0, 1, 0, 1, 0, 1, 0, 1, 0, 1, 0, 0, 0, 1, 1, 1, 0, 0, 0, 0, 1,\n",
       "       1, 1, 1, 1, 1, 1, 0, 0, 0, 1, 1, 1, 1, 0, 0, 1, 0, 0, 0, 0, 0, 0,\n",
       "       1, 1, 0, 0, 0, 1, 0, 1, 1, 1, 1, 1, 1, 0, 1, 1, 1, 1, 0, 1, 0, 0,\n",
       "       1, 1, 1, 0, 1, 0, 1, 0, 0, 0, 1, 0, 1, 0, 1, 1, 0, 1, 1, 1, 1, 0,\n",
       "       1, 0, 1, 1, 0, 1, 1, 1, 1, 0, 1, 1, 1, 0, 0, 0, 0, 1, 1, 0, 0, 0,\n",
       "       0, 1, 1, 1, 1, 1, 1, 1, 1, 1, 1, 1, 1, 1, 1, 1, 1, 1, 1, 1, 1, 1,\n",
       "       1, 1, 1, 1, 1, 1, 1, 1, 1, 1, 1, 1, 1])"
      ]
     },
     "execution_count": 76,
     "metadata": {},
     "output_type": "execute_result"
    }
   ],
   "source": [
    " #Predicciones con intervalo de confianza \n",
    "# ==============================================================================\n",
    "predicciones = modelo.predict(exog = X)\n",
    "\n",
    "# Clasificación predicha\n",
    "# ==============================================================================\n",
    "clasificacion = np.where(predicciones<0.5, 0, 1)\n",
    "clasificacion"
   ]
  },
  {
   "cell_type": "markdown",
   "id": "d08bba04-1658-4d74-8aa5-05e0e33a4303",
   "metadata": {},
   "source": [
    "# Accuracy de test\n",
    "\n",
    "\n",
    "Se calcula el porcentaje de aciertos que tiene el modelo al predecir las observaciones de test (accuracy)."
   ]
  },
  {
   "cell_type": "code",
   "execution_count": 78,
   "id": "cef10471-e5d7-4aee-b5ee-8dd37c365ee6",
   "metadata": {},
   "outputs": [
    {
     "name": "stdout",
     "output_type": "stream",
     "text": [
      "Precisión del modelo: 74.11%\n"
     ]
    }
   ],
   "source": [
    "# Accuracy del modelo \n",
    "# ==============================================================================\n",
    "# Comparación con las etiquetas reales\n",
    "accuracy = np.mean(clasificacion == y)\n",
    "\n",
    "# Mostrar la precisión\n",
    "print(f'Precisión del modelo: {accuracy * 100:.2f}%')"
   ]
  },
  {
   "cell_type": "code",
   "execution_count": 80,
   "id": "83c3c4af-628e-4089-ae85-785b515be6a3",
   "metadata": {},
   "outputs": [
    {
     "data": {
      "text/html": [
       "<div>\n",
       "<style scoped>\n",
       "    .dataframe tbody tr th:only-of-type {\n",
       "        vertical-align: middle;\n",
       "    }\n",
       "\n",
       "    .dataframe tbody tr th {\n",
       "        vertical-align: top;\n",
       "    }\n",
       "\n",
       "    .dataframe thead th {\n",
       "        text-align: right;\n",
       "    }\n",
       "</style>\n",
       "<table border=\"1\" class=\"dataframe\">\n",
       "  <thead>\n",
       "    <tr style=\"text-align: right;\">\n",
       "      <th>Predicción</th>\n",
       "      <th>0</th>\n",
       "      <th>1</th>\n",
       "    </tr>\n",
       "    <tr>\n",
       "      <th>Real</th>\n",
       "      <th></th>\n",
       "      <th></th>\n",
       "    </tr>\n",
       "  </thead>\n",
       "  <tbody>\n",
       "    <tr>\n",
       "      <th>0</th>\n",
       "      <td>197</td>\n",
       "      <td>56</td>\n",
       "    </tr>\n",
       "    <tr>\n",
       "      <th>1</th>\n",
       "      <td>67</td>\n",
       "      <td>155</td>\n",
       "    </tr>\n",
       "  </tbody>\n",
       "</table>\n",
       "</div>"
      ],
      "text/plain": [
       "Predicción    0    1\n",
       "Real                \n",
       "0           197   56\n",
       "1            67  155"
      ]
     },
     "execution_count": 80,
     "metadata": {},
     "output_type": "execute_result"
    }
   ],
   "source": [
    "\n",
    "\n",
    "# Matriz de confusión de las predicciones de test\n",
    "# ==============================================================================\n",
    "confusion_matrix = pd.crosstab(\n",
    "    y.ravel(),\n",
    "    clasificacion,\n",
    "    rownames=['Real'],\n",
    "    colnames=['Predicción']\n",
    ")\n",
    "confusion_matrix\n",
    "\n"
   ]
  },
  {
   "cell_type": "markdown",
   "id": "b8995859-8134-4a9d-800f-02660c3ec6e5",
   "metadata": {},
   "source": [
    "# verificacion de datos "
   ]
  },
  {
   "cell_type": "code",
   "execution_count": 90,
   "id": "22e62a9f-726f-44fd-b04e-c0ca3d13e179",
   "metadata": {},
   "outputs": [
    {
     "name": "stdout",
     "output_type": "stream",
     "text": [
      "Resultado predicho \n",
      "\n",
      " [[0 0 0 ... 0 0 0]\n",
      " [0 0 0 ... 0 0 0]\n",
      " [1 0 0 ... 0 0 0]\n",
      " ...\n",
      " [1 1 1 ... 1 1 1]\n",
      " [1 1 1 ... 1 1 1]\n",
      " [1 1 1 ... 1 1 1]] \n",
      "\n",
      "Resultados reales \n",
      "\n",
      " [0 0 1 1 0 1 0 1 0 1 0 0 1 0 0 1 0 0 0 0 0 0 1 0 0 0 0 1 0 0 0 1 0 1 0 0 0\n",
      " 0 1 0 1 0 0 0 0 0 0 0 0 0 0 1 0 0 0 0 1 0 0 0 1 0 0 0 0 0 0 0 1 1 0 0 0 1\n",
      " 1 1 1 0 0 0 0 1 1 1 0 0 0 0 0 0 1 1 1 0 1 1 0 1 0 0 1 1 0 0 1 1 0 0 0 0 0\n",
      " 0 0 0 1 0 0 1 1 1 1 0 1 0 0 1 1 0 0 1 1 1 0 1 1 0 0 1 1 1 0 0 1 0 0 1 0 0\n",
      " 1 1 1 1 0 1 1 0 0 0 1 1 1 1 1 0 1 1 1 1 1 1 1 1 1 1 0 1 1 0 0 0 1 1 0 1 0\n",
      " 1 1 0 1 0 1 1 1 1 0 0 1 0 1 0 1 1 0 0 0 1 0 1 1 0 0 1 0 1 0 0 1 1 1 1 1 0\n",
      " 1 0 0 1 1 1 1 1 1 1 0 1 1 1 0 0 0 1 0 1 1 1 0 0 0 1 1 0 0 1 1 1 1 1 1 1 1\n",
      " 1 0 1 0 1 1 1 1 0 1 0 1 1 1 0 1 1 1 1 1 0 0 1 1 1 1 1 1 0 1 1 1 0 1 1 1 0\n",
      " 0 1 0 1 1 0 0 0 0 0 0 1 1 0 1 1 1 0 1 0 1 1 1 1 0 1 0 0 1 0 1 1 1 0 0 0 1\n",
      " 0 1 0 1 0 0 1 1 0 0 1 1 1 1 0 0 0 0 1 0 0 0 1 1 1 0 1 1 1 0 1 1 0 0 1 1 0\n",
      " 0 0 0 0 1 1 1 0 0 1 0 1 1 1 0 0 1 0 1 0 0 1 0 1 0 0 1 1 1 0 1 0 1 0 0 1 1\n",
      " 0 1 0 1 0 0 0 1 1 1 0 0 0 0 1 0 1 0 1 0 0 1 1 0 0 0 0 1 0 1 0 0 1 0 1 0 0\n",
      " 0 0 0 0 0 0 0 0 0 0 0 0 0 0 0 0 0 0 0 0 0 0 0 0 0 0 0 0 0 0 0]\n"
     ]
    }
   ],
   "source": [
    "# importamos la bases de datos ocn los resultados\n",
    "\n",
    "datares = pd.read_csv('dataconresultado.csv')\n",
    "datares.head(475)\n",
    "\n",
    "#array de RESUTADO para comparar\n",
    "resultados = datares['RESULTADO'].values\n",
    "\n",
    "x1 = data_frame['SEMESTRE ACTUAL'].values\n",
    "\n",
    "#array de ESTRATO\n",
    "x2 = data_frame['ESTRATO'].values\n",
    "\n",
    "#array de PROMEDIO CARRERA\n",
    "x3 = data_frame['PROMEDIO CARRERA'].values\n",
    "\n",
    "#array de PROMEDIO SEMESTRE\n",
    "x4 = data_frame['PROMEDIO SEMESTRE'].values\n",
    "\n",
    "#array de RESUTADO\n",
    "#resultados = data_frame['RESULTADO'].values\n",
    "\n",
    "b0 = 1.0004\n",
    "b1 = -0.2967\n",
    "b2 = 0.3380\n",
    "b3 = -0.5611\n",
    "b4 = 0.2385\n",
    "\n",
    "# Inicializa un array vacío para almacenar los resultados\n",
    "predicciones = []\n",
    "\n",
    "# Calcula el sigmoide para cada conjunto de valores\n",
    "for i in range(len(x1)):\n",
    "    sigmoide_i = 1 / (1 + np.exp(-(b0 + b1 * x1[i] + b2 * x2[i] + b3 * x3[i] + b4*x4)))\n",
    "    predicciones.append(sigmoide_i)\n",
    "\n",
    "# Convierte la lista de resultados en un array de NumPy\n",
    "PREDICCIONES = np.array(predicciones)\n",
    "\n",
    "RESULTADOS_pred = np.where(PREDICCIONES < 0.5, 0, 1)\n",
    "\n",
    "print(\"Resultado predicho \\n\\n\",RESULTADOS_pred,'\\n')\n",
    "print('Resultados reales \\n\\n',resultados)        \n"
   ]
  },
  {
   "cell_type": "code",
   "execution_count": 94,
   "id": "608d892e-c330-41d1-b914-de0942ac2a7f",
   "metadata": {},
   "outputs": [
    {
     "name": "stdout",
     "output_type": "stream",
     "text": [
      "F1 Score: 0.7159353348729791\n"
     ]
    }
   ],
   "source": [
    "from sklearn.metrics import f1_score\n",
    "\n",
    "# Calcula el F1 Score\n",
    "f1 = f1_score(resultados, clasificacion)\n",
    "\n",
    "print(f\"F1 Score: {f1}\")"
   ]
  },
  {
   "cell_type": "code",
   "execution_count": null,
   "id": "d86a93dd-1005-4afa-ac08-27151d20b5ac",
   "metadata": {},
   "outputs": [],
   "source": []
  },
  {
   "cell_type": "code",
   "execution_count": null,
   "id": "a96188fb-9524-456b-9bb0-a7e2a1ef01dd",
   "metadata": {},
   "outputs": [],
   "source": []
  }
 ],
 "metadata": {
  "kernelspec": {
   "display_name": "Python 3 (ipykernel)",
   "language": "python",
   "name": "python3"
  },
  "language_info": {
   "codemirror_mode": {
    "name": "ipython",
    "version": 3
   },
   "file_extension": ".py",
   "mimetype": "text/x-python",
   "name": "python",
   "nbconvert_exporter": "python",
   "pygments_lexer": "ipython3",
   "version": "3.11.6"
  }
 },
 "nbformat": 4,
 "nbformat_minor": 5
}
